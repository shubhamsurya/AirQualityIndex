{
  "nbformat": 4,
  "nbformat_minor": 0,
  "metadata": {
    "colab": {
      "name": "Untitled13.ipynb",
      "provenance": [],
      "authorship_tag": "ABX9TyNHi9jb6nyYmZgQgvtf6FxK",
      "include_colab_link": true
    },
    "kernelspec": {
      "name": "python3",
      "display_name": "Python 3"
    }
  },
  "cells": [
    {
      "cell_type": "markdown",
      "metadata": {
        "id": "view-in-github",
        "colab_type": "text"
      },
      "source": [
        "<a href=\"https://colab.research.google.com/github/shubhamsurya/AirQualityIndex/blob/master/AQI.ipynb\" target=\"_parent\"><img src=\"https://colab.research.google.com/assets/colab-badge.svg\" alt=\"Open In Colab\"/></a>"
      ]
    },
    {
      "cell_type": "code",
      "metadata": {
        "id": "f17SLizZl34b",
        "colab_type": "code",
        "colab": {
          "base_uri": "https://localhost:8080/",
          "height": 35
        },
        "outputId": "532e130c-e3a3-4a3f-ae3d-106a348bfe4b"
      },
      "source": [
        "import time\n",
        "import requests\n",
        "import sys\n",
        "import os\n",
        "\n",
        "def retrieve_html():\n",
        "    for year in range(2013,2019):\n",
        "        for month in range(1,13):\n",
        "            if(month<10):\n",
        "                url='http://en.tutiempo.net/climate/0{}-{}/ws-421820.html'.format(month\n",
        "                                                                          ,year)\n",
        "            else:\n",
        "                url='http://en.tutiempo.net/climate/{}-{}/ws-421820.html'.format(month\n",
        "                                                                          ,year)\n",
        "            texts=requests.get(url)\n",
        "            text_utf=texts.text.encode('utf=8')\n",
        "            \n",
        "            if not os.path.exists(\"Data/Html_Data/{}\".format(year)):\n",
        "                os.makedirs(\"Data/Html_Data/{}\".format(year))\n",
        "            with open(\"Data/Html_Data/{}/{}.html\".format(year,month),\"wb\") as output:\n",
        "                output.write(text_utf)\n",
        "            \n",
        "        sys.stdout.flush()\n",
        "        \n",
        "if __name__==\"__main__\":\n",
        "    start_time=time.time()\n",
        "    retrieve_html()\n",
        "    stop_time=time.time()\n",
        "    print(\"Time taken {}\".format(stop_time-start_time))"
      ],
      "execution_count": 2,
      "outputs": [
        {
          "output_type": "stream",
          "text": [
            "Time taken 73.92476320266724\n"
          ],
          "name": "stdout"
        }
      ]
    }
  ]
}